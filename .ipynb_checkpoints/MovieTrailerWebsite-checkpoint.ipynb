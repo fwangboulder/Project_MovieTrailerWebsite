{
 "cells": [
  {
   "cell_type": "markdown",
   "metadata": {},
   "source": [
    "Things for class Movie to rember.\n",
    "-title\n",
    "-storyline\n",
    "-poster-image\n",
    "-trailer_youtube\n",
    "\n",
    "New Vocabulary Words:\n",
    "-Class: a blueprint\n",
    "-Instance: an object created by the blueprint\n",
    "-Constructor: init a instance and create space\n",
    "-Self: the object being created"
   ]
  },
  {
   "cell_type": "code",
   "execution_count": null,
   "metadata": {
    "collapsed": true
   },
   "outputs": [],
   "source": [
    "class Movie():\n",
    "    def __init__(self,movie_title,movie_story_line,poster_image,trailer_youtube):\n",
    "        self.title=movie_story\n",
    "        self.story_line=story_line\n",
    "        self.poster_image=poster_image\n",
    "        self.trailer_youtube=trailer_youtube\n",
    "        "
   ]
  }
 ],
 "metadata": {
  "anaconda-cloud": {},
  "kernelspec": {
   "display_name": "Python [Root]",
   "language": "python",
   "name": "Python [Root]"
  },
  "language_info": {
   "codemirror_mode": {
    "name": "ipython",
    "version": 2
   },
   "file_extension": ".py",
   "mimetype": "text/x-python",
   "name": "python",
   "nbconvert_exporter": "python",
   "pygments_lexer": "ipython2",
   "version": "2.7.12"
  }
 },
 "nbformat": 4,
 "nbformat_minor": 0
}
