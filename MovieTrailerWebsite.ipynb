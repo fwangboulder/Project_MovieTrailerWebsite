{
 "cells": [
  {
   "cell_type": "markdown",
   "metadata": {},
   "source": [
    "Things for class Movie to rember.\n",
    "-title\n",
    "-storyline\n",
    "-poster-image\n",
    "-trailer_youtube\n",
    "\n",
    "Things to do \n",
    "-show_trailer():\n",
    "this function will open the webbrowser and play the trailer\n",
    "\n",
    "Create a website:\n",
    "Open_movies_page functions: use a list of movies and create a website that shows these movies\n",
    "\n",
    "\n"
   ]
  },
  {
   "cell_type": "code",
   "execution_count": 6,
   "metadata": {
    "collapsed": false
   },
   "outputs": [],
   "source": [
    "#!/usr/bin/env python\n",
    "import webbrowser\n",
    "class Movie():\n",
    "    def __init__(self, movie_title, movie_story_line, poster_image, trailer_youtube):\n",
    "        self.title=movie_title\n",
    "        self.story_line=movie_story_line\n",
    "        self.poster_image=poster_image\n",
    "        self.trailer_youtube=trailer_youtube\n",
    "        \n",
    "    def show_trailer(self):\n",
    "        webbrowser.open(self.trailer_youtube)\n"
   ]
  },
  {
   "cell_type": "code",
   "execution_count": null,
   "metadata": {
    "collapsed": true
   },
   "outputs": [],
   "source": [
    "#!/usr/bin/env python\n",
    "title='Frozen'\n",
    "story_line='blahblah'\n",
    "links='https://upload.wikimedia.org/wikipedia/en/0/05/Frozen_%282013_film%29_poster.jpg'\n",
    "trailer_youtube=\"https://www.youtube.com/watch?v=TbQm5doF_Uc\"\n",
    "a=media.Movie(title, story_line, links,trailer_youtube)\n",
    "a.show_trailer()"
   ]
  },
  {
   "cell_type": "markdown",
   "metadata": {},
   "source": []
  },
  {
   "cell_type": "code",
   "execution_count": null,
   "metadata": {
    "collapsed": true
   },
   "outputs": [],
   "source": []
  }
 ],
 "metadata": {
  "anaconda-cloud": {},
  "kernelspec": {
   "display_name": "Python [Root]",
   "language": "python",
   "name": "Python [Root]"
  },
  "language_info": {
   "codemirror_mode": {
    "name": "ipython",
    "version": 2
   },
   "file_extension": ".py",
   "mimetype": "text/x-python",
   "name": "python",
   "nbconvert_exporter": "python",
   "pygments_lexer": "ipython2",
   "version": "2.7.12"
  }
 },
 "nbformat": 4,
 "nbformat_minor": 0
}
